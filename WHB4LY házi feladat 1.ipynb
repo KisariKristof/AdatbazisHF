{
    "metadata": {
        "kernelspec": {
            "name": "SQL",
            "display_name": "SQL",
            "language": "sql"
        },
        "language_info": {
            "name": "sql",
            "version": ""
        }
    },
    "nbformat_minor": 2,
    "nbformat": 4,
    "cells": [
        {
            "cell_type": "markdown",
            "source": [
                "NULL értékek száma és aránya"
            ],
            "metadata": {
                "language": "sql",
                "azdata_cell_guid": "68b6fd49-6299-446b-b0f3-5b2162159557"
            },
            "attachments": {}
        },
        {
            "cell_type": "code",
            "source": [
                "SELECT \r\n",
                "        (SUM (CASE WHEN SZALL_CIM IS NULL THEN 1 ELSE 0 END)) AS null_szall_cim,\r\n",
                "        (SUM(CASE WHEN SZALL_CIM IS NULL THEN 1 ELSE 0 END) * 100.0 / COUNT(*)) AS percent_szall_cim,\r\n",
                "        SUM(CASE WHEN SZAMLA_CIM IS NULL THEN 1 ELSE 0 END) AS null_szamla,\r\n",
                "        (SUM(CASE WHEN SZAMLA_CIM IS NULL THEN 1 ELSE 0 END) * 100.0 / COUNT(*)) AS percent_szamla\r\n",
                "    FROM RENDELES;"
            ],
            "metadata": {
                "azdata_cell_guid": "f8843bca-61c6-4917-aaac-bee45e0218fd",
                "language": "sql",
                "tags": []
            },
            "outputs": [
                {
                    "output_type": "display_data",
                    "data": {
                        "text/html": "(1 row affected)"
                    },
                    "metadata": {}
                },
                {
                    "output_type": "display_data",
                    "data": {
                        "text/html": "Total execution time: 00:00:00.017"
                    },
                    "metadata": {}
                },
                {
                    "output_type": "execute_result",
                    "metadata": {},
                    "execution_count": 11,
                    "data": {
                        "application/vnd.dataresource+json": {
                            "schema": {
                                "fields": [
                                    {
                                        "name": "null_szall_cim"
                                    },
                                    {
                                        "name": "percent_szall_cim"
                                    },
                                    {
                                        "name": "null_szamla"
                                    },
                                    {
                                        "name": "percent_szamla"
                                    }
                                ]
                            },
                            "data": [
                                {
                                    "null_szall_cim": "21689",
                                    "percent_szall_cim": "77.226277372262",
                                    "null_szamla": "25535",
                                    "percent_szamla": "90.920420153106"
                                }
                            ]
                        },
                        "text/html": [
                            "<table>",
                            "<tr><th>null_szall_cim</th><th>percent_szall_cim</th><th>null_szamla</th><th>percent_szamla</th></tr>",
                            "<tr><td>21689</td><td>77.226277372262</td><td>25535</td><td>90.920420153106</td></tr>",
                            "</table>"
                        ]
                    }
                }
            ],
            "execution_count": 11
        },
        {
            "cell_type": "markdown",
            "source": [
                "LISTAAR statisztika"
            ],
            "metadata": {
                "language": "sql",
                "azdata_cell_guid": "ea4febdd-6888-47d5-9778-2ff44e6f71b9"
            },
            "attachments": {}
        },
        {
            "cell_type": "code",
            "source": [
                "SELECT \r\n",
                "        MIN(LISTAAR) AS min_lista_ar,\r\n",
                "        MAX(LISTAAR) AS max_lista_ar,\r\n",
                "        AVG(LISTAAR) AS avg_lista_ar\r\n",
                "    FROM TERMEK"
            ],
            "metadata": {
                "language": "sql",
                "azdata_cell_guid": "1bc0bfaa-9474-459e-9d44-f840fc38bd93"
            },
            "outputs": [
                {
                    "output_type": "display_data",
                    "data": {
                        "text/html": "(1 row affected)"
                    },
                    "metadata": {}
                },
                {
                    "output_type": "display_data",
                    "data": {
                        "text/html": "Total execution time: 00:00:00.007"
                    },
                    "metadata": {}
                },
                {
                    "output_type": "execute_result",
                    "metadata": {},
                    "execution_count": 12,
                    "data": {
                        "application/vnd.dataresource+json": {
                            "schema": {
                                "fields": [
                                    {
                                        "name": "min_lista_ar"
                                    },
                                    {
                                        "name": "max_lista_ar"
                                    },
                                    {
                                        "name": "avg_lista_ar"
                                    }
                                ]
                            },
                            "data": [
                                {
                                    "min_lista_ar": "0",
                                    "max_lista_ar": "46000",
                                    "avg_lista_ar": "786,2813067150635"
                                }
                            ]
                        },
                        "text/html": [
                            "<table>",
                            "<tr><th>min_lista_ar</th><th>max_lista_ar</th><th>avg_lista_ar</th></tr>",
                            "<tr><td>0</td><td>46000</td><td>786,2813067150635</td></tr>",
                            "</table>"
                        ]
                    }
                }
            ],
            "execution_count": 12
        },
        {
            "cell_type": "markdown",
            "source": [
                "KESZLET statisztika"
            ],
            "metadata": {
                "language": "sql",
                "azdata_cell_guid": "7016bfb4-acb3-4bac-8842-2b2145797ac2"
            },
            "attachments": {}
        },
        {
            "cell_type": "code",
            "source": [
                "SELECT \r\n",
                "        MIN(KESZLET) AS min_keszlet,\r\n",
                "        MAX(KESZLET) AS max_keszlet,\r\n",
                "        AVG(KESZLET) AS avg_keszlet\r\n",
                "    FROM TERMEK;"
            ],
            "metadata": {
                "language": "sql",
                "azdata_cell_guid": "4707f17e-91cc-4f67-9bda-31ef0c695f24"
            },
            "outputs": [
                {
                    "output_type": "display_data",
                    "data": {
                        "text/html": "(1 row affected)"
                    },
                    "metadata": {}
                },
                {
                    "output_type": "display_data",
                    "data": {
                        "text/html": "Total execution time: 00:00:00.009"
                    },
                    "metadata": {}
                },
                {
                    "output_type": "execute_result",
                    "metadata": {},
                    "execution_count": 13,
                    "data": {
                        "application/vnd.dataresource+json": {
                            "schema": {
                                "fields": [
                                    {
                                        "name": "min_keszlet"
                                    },
                                    {
                                        "name": "max_keszlet"
                                    },
                                    {
                                        "name": "avg_keszlet"
                                    }
                                ]
                            },
                            "data": [
                                {
                                    "min_keszlet": "0",
                                    "max_keszlet": "50000",
                                    "avg_keszlet": "1585,9909255898367"
                                }
                            ]
                        },
                        "text/html": [
                            "<table>",
                            "<tr><th>min_keszlet</th><th>max_keszlet</th><th>avg_keszlet</th></tr>",
                            "<tr><td>0</td><td>50000</td><td>1585,9909255898367</td></tr>",
                            "</table>"
                        ]
                    }
                }
            ],
            "execution_count": 13
        },
        {
            "cell_type": "markdown",
            "source": [
                "REND\\_DATUM statisztika"
            ],
            "metadata": {
                "language": "sql",
                "azdata_cell_guid": "05c758cb-5e12-4e27-9a71-742bf3c1838a"
            },
            "attachments": {}
        },
        {
            "cell_type": "code",
            "source": [
                "SELECT \r\n",
                "        MIN(REND_DATUM) AS min_rend_datum,\r\n",
                "        MAX(REND_DATUM) AS max_rend_datum\r\n",
                "    FROM RENDELES;"
            ],
            "metadata": {
                "language": "sql",
                "azdata_cell_guid": "839102d3-ecc0-4027-a624-810a082067a9"
            },
            "outputs": [
                {
                    "output_type": "display_data",
                    "data": {
                        "text/html": "(1 row affected)"
                    },
                    "metadata": {}
                },
                {
                    "output_type": "display_data",
                    "data": {
                        "text/html": "Total execution time: 00:00:00.024"
                    },
                    "metadata": {}
                },
                {
                    "output_type": "execute_result",
                    "metadata": {},
                    "execution_count": 8,
                    "data": {
                        "application/vnd.dataresource+json": {
                            "schema": {
                                "fields": [
                                    {
                                        "name": "min_felvitel"
                                    },
                                    {
                                        "name": "max_felvitel"
                                    }
                                ]
                            },
                            "data": [
                                {
                                    "min_felvitel": "2015-05-01",
                                    "max_felvitel": "2017-04-01"
                                }
                            ]
                        },
                        "text/html": [
                            "<table>",
                            "<tr><th>min_felvitel</th><th>max_felvitel</th></tr>",
                            "<tr><td>2015-05-01</td><td>2017-04-01</td></tr>",
                            "</table>"
                        ]
                    }
                }
            ],
            "execution_count": 8
        }
    ]
}