{
    "metadata": {
        "kernelspec": {
            "name": "SQL",
            "display_name": "SQL",
            "language": "sql"
        },
        "language_info": {
            "name": "sql",
            "version": ""
        }
    },
    "nbformat_minor": 2,
    "nbformat": 4,
    "cells": [
        {
            "cell_type": "markdown",
            "source": [
                "## Feladat"
            ],
            "metadata": {
                "azdata_cell_guid": "839cf1ea-25fd-426d-910c-5d91b28623e5"
            },
            "attachments": {}
        },
        {
            "cell_type": "code",
            "source": [
                "CREATE TABLE UGYFEL_MASKED (\r\n",
                "    FELHASZNALO VARCHAR(32) MASKED WITH (FUNCTION = 'partial(2, \"XXXX\", 0)') NOT NULL,\r\n",
                "    EMAIL VARCHAR(64) MASKED WITH (FUNCTION = 'email()') NOT NULL,\r\n",
                "    NEV VARCHAR(64) ,\r\n",
                "    SZULEV NUMERIC(4) MASKED WITH (FUNCTION = 'random(1940,2010)'),\r\n",
                "    NEM VARCHAR(1),\r\n",
                "    CIM VARCHAR(128) MASKED WITH (FUNCTION = 'partial(1, \"XXXXX\", 0)') NOT NULL\r\n",
                ");"
            ],
            "metadata": {
                "azdata_cell_guid": "9cb1ec3f-5f8d-40ac-8adf-1c625dacf78f",
                "language": "sql"
            },
            "outputs": [
                {
                    "output_type": "error",
                    "evalue": "Msg 262, Level 14, State 1, Line 1\r\nCREATE TABLE permission denied in database 'webshop'.",
                    "ename": "",
                    "traceback": []
                },
                {
                    "output_type": "display_data",
                    "data": {
                        "text/html": "Total execution time: 00:00:00.006"
                    },
                    "metadata": {}
                }
            ],
            "execution_count": 4
        },
        {
            "cell_type": "code",
            "source": [
                "INSERT INTO UGYFEL_MASKED\r\n",
                "SELECT LOGIN, EMAIL, NEV, SZULEV, NEM, CIM\r\n",
                "FROM UGYFEL;"
            ],
            "metadata": {
                "azdata_cell_guid": "e1202b9a-bc6e-4c78-8521-b944a3c7cc24",
                "language": "sql"
            },
            "outputs": [],
            "execution_count": null
        },
        {
            "cell_type": "code",
            "source": [
                "CREATE USER Felhasznalo WITHOUT LOGIN;\r\n",
                "GRANT SELECT ON UGYFEL_MASKED TO Felhasznalo;"
            ],
            "metadata": {
                "azdata_cell_guid": "75753b71-5eed-411e-abba-d55b4d4783a1",
                "language": "sql",
                "tags": [
                    "hide_input"
                ]
            },
            "outputs": [],
            "execution_count": null
        },
        {
            "cell_type": "code",
            "source": [
                "CREATE USER AdatAdmin WITHOUT LOGIN;\r\n",
                "GRANT CONTROL ON UGYFEL_MASKED TO AdatAdmin;\r\n",
                "GRANT UNMASK TO AdatAdmin;"
            ],
            "metadata": {
                "azdata_cell_guid": "09872e95-6120-428a-9894-f2076a8f7fff",
                "language": "sql"
            },
            "outputs": [],
            "execution_count": null
        },
        {
            "cell_type": "markdown",
            "source": [
                "## Teszt"
            ],
            "metadata": {
                "azdata_cell_guid": "61971b25-61ef-4150-bcda-a48ddcd0f655"
            },
            "attachments": {}
        },
        {
            "cell_type": "code",
            "source": [
                "EXECUTE AS USER = 'Felhasznalo';\r\n",
                "SELECT * FROM UGYFEL_MASKED;\r\n",
                "REVERT;"
            ],
            "metadata": {
                "azdata_cell_guid": "3b8cf367-8715-40a7-b9e0-b0faf80d2ed5",
                "language": "sql"
            },
            "outputs": [],
            "execution_count": null
        },
        {
            "cell_type": "code",
            "source": [
                "EXECUTE AS USER = 'AdatAdmin';\r\n",
                "SELECT * FROM UGYFEL_MASKED;\r\n",
                "REVERT;"
            ],
            "metadata": {
                "azdata_cell_guid": "17766be6-fd33-4675-ad44-4249fb2c7523",
                "language": "sql"
            },
            "outputs": [],
            "execution_count": null
        }
    ]
}